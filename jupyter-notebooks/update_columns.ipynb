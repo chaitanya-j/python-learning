{
 "cells": [
  {
   "cell_type": "markdown",
   "metadata": {},
   "source": [
    "# Pandas is very important library for Data Analisys.\n",
    "## Learning Pandas is Both Exiting and Fun"
   ]
  },
  {
   "cell_type": "code",
   "execution_count": 4,
   "metadata": {},
   "outputs": [],
   "source": [
    "import pandas"
   ]
  },
  {
   "cell_type": "markdown",
   "metadata": {},
   "source": [
    "### Loading the wanted csv"
   ]
  },
  {
   "cell_type": "raw",
   "metadata": {},
   "source": [
    "csv = pandas.read_csv('creds.csv')\n"
   ]
  },
  {
   "cell_type": "code",
   "execution_count": 6,
   "metadata": {},
   "outputs": [
    {
     "data": {
      "text/html": [
       "<div>\n",
       "<style scoped>\n",
       "    .dataframe tbody tr th:only-of-type {\n",
       "        vertical-align: middle;\n",
       "    }\n",
       "\n",
       "    .dataframe tbody tr th {\n",
       "        vertical-align: top;\n",
       "    }\n",
       "\n",
       "    .dataframe thead th {\n",
       "        text-align: right;\n",
       "    }\n",
       "</style>\n",
       "<table border=\"1\" class=\"dataframe\">\n",
       "  <thead>\n",
       "    <tr style=\"text-align: right;\">\n",
       "      <th></th>\n",
       "      <th>f_name</th>\n",
       "      <th>l_name</th>\n",
       "      <th>roll_no</th>\n",
       "      <th>div</th>\n",
       "      <th>age</th>\n",
       "    </tr>\n",
       "  </thead>\n",
       "  <tbody>\n",
       "    <tr>\n",
       "      <th>0</th>\n",
       "      <td>Chaitanya</td>\n",
       "      <td>Jaipurkar</td>\n",
       "      <td>34</td>\n",
       "      <td>Dahlia</td>\n",
       "      <td>13</td>\n",
       "    </tr>\n",
       "    <tr>\n",
       "      <th>1</th>\n",
       "      <td>Adi</td>\n",
       "      <td>Rane</td>\n",
       "      <td>11</td>\n",
       "      <td>A</td>\n",
       "      <td>11</td>\n",
       "    </tr>\n",
       "    <tr>\n",
       "      <th>2</th>\n",
       "      <td>Adwait</td>\n",
       "      <td>Dive</td>\n",
       "      <td>56</td>\n",
       "      <td>Pluto</td>\n",
       "      <td>12</td>\n",
       "    </tr>\n",
       "    <tr>\n",
       "      <th>3</th>\n",
       "      <td>Vishrut</td>\n",
       "      <td>Vaishampayan</td>\n",
       "      <td>48</td>\n",
       "      <td>Dahlia</td>\n",
       "      <td>13</td>\n",
       "    </tr>\n",
       "    <tr>\n",
       "      <th>4</th>\n",
       "      <td>Neel</td>\n",
       "      <td>Deshmukh</td>\n",
       "      <td>29</td>\n",
       "      <td>Jasmine</td>\n",
       "      <td>10</td>\n",
       "    </tr>\n",
       "    <tr>\n",
       "      <th>5</th>\n",
       "      <td>Samarth</td>\n",
       "      <td>Joshi</td>\n",
       "      <td>33</td>\n",
       "      <td>jas</td>\n",
       "      <td>11</td>\n",
       "    </tr>\n",
       "  </tbody>\n",
       "</table>\n",
       "</div>"
      ],
      "text/plain": [
       "      f_name        l_name  roll_no      div  age\n",
       "0  Chaitanya     Jaipurkar       34   Dahlia   13\n",
       "1        Adi          Rane       11        A   11\n",
       "2     Adwait          Dive       56    Pluto   12\n",
       "3    Vishrut  Vaishampayan       48   Dahlia   13\n",
       "4       Neel      Deshmukh       29  Jasmine   10\n",
       "5    Samarth         Joshi       33      jas   11"
      ]
     },
     "execution_count": 6,
     "metadata": {},
     "output_type": "execute_result"
    }
   ],
   "source": [
    "csv"
   ]
  },
  {
   "cell_type": "markdown",
   "metadata": {},
   "source": [
    "### Now we are maping the changed column name to the real names, just like a dictionary"
   ]
  },
  {
   "cell_type": "code",
   "execution_count": 7,
   "metadata": {},
   "outputs": [
    {
     "data": {
      "text/html": [
       "<div>\n",
       "<style scoped>\n",
       "    .dataframe tbody tr th:only-of-type {\n",
       "        vertical-align: middle;\n",
       "    }\n",
       "\n",
       "    .dataframe tbody tr th {\n",
       "        vertical-align: top;\n",
       "    }\n",
       "\n",
       "    .dataframe thead th {\n",
       "        text-align: right;\n",
       "    }\n",
       "</style>\n",
       "<table border=\"1\" class=\"dataframe\">\n",
       "  <thead>\n",
       "    <tr style=\"text-align: right;\">\n",
       "      <th></th>\n",
       "      <th>First_Name</th>\n",
       "      <th>Last_Name</th>\n",
       "      <th>Roll_No</th>\n",
       "      <th>div</th>\n",
       "      <th>age</th>\n",
       "    </tr>\n",
       "  </thead>\n",
       "  <tbody>\n",
       "    <tr>\n",
       "      <th>0</th>\n",
       "      <td>Chaitanya</td>\n",
       "      <td>Jaipurkar</td>\n",
       "      <td>34</td>\n",
       "      <td>Dahlia</td>\n",
       "      <td>13</td>\n",
       "    </tr>\n",
       "    <tr>\n",
       "      <th>1</th>\n",
       "      <td>Adi</td>\n",
       "      <td>Rane</td>\n",
       "      <td>11</td>\n",
       "      <td>A</td>\n",
       "      <td>11</td>\n",
       "    </tr>\n",
       "    <tr>\n",
       "      <th>2</th>\n",
       "      <td>Adwait</td>\n",
       "      <td>Dive</td>\n",
       "      <td>56</td>\n",
       "      <td>Pluto</td>\n",
       "      <td>12</td>\n",
       "    </tr>\n",
       "    <tr>\n",
       "      <th>3</th>\n",
       "      <td>Vishrut</td>\n",
       "      <td>Vaishampayan</td>\n",
       "      <td>48</td>\n",
       "      <td>Dahlia</td>\n",
       "      <td>13</td>\n",
       "    </tr>\n",
       "    <tr>\n",
       "      <th>4</th>\n",
       "      <td>Neel</td>\n",
       "      <td>Deshmukh</td>\n",
       "      <td>29</td>\n",
       "      <td>Jasmine</td>\n",
       "      <td>10</td>\n",
       "    </tr>\n",
       "    <tr>\n",
       "      <th>5</th>\n",
       "      <td>Samarth</td>\n",
       "      <td>Joshi</td>\n",
       "      <td>33</td>\n",
       "      <td>jas</td>\n",
       "      <td>11</td>\n",
       "    </tr>\n",
       "  </tbody>\n",
       "</table>\n",
       "</div>"
      ],
      "text/plain": [
       "  First_Name     Last_Name  Roll_No      div  age\n",
       "0  Chaitanya     Jaipurkar       34   Dahlia   13\n",
       "1        Adi          Rane       11        A   11\n",
       "2     Adwait          Dive       56    Pluto   12\n",
       "3    Vishrut  Vaishampayan       48   Dahlia   13\n",
       "4       Neel      Deshmukh       29  Jasmine   10\n",
       "5    Samarth         Joshi       33      jas   11"
      ]
     },
     "execution_count": 7,
     "metadata": {},
     "output_type": "execute_result"
    }
   ],
   "source": [
    "csv.rename(columns={'f_name' : 'First_Name','l_name' : 'Last_Name','roll_no' : 'Roll_No'})"
   ]
  },
  {
   "cell_type": "markdown",
   "metadata": {},
   "source": [
    "### The Changes are visible!!"
   ]
  },
  {
   "cell_type": "markdown",
   "metadata": {},
   "source": [
    "#### Now if we want the changes to be permanent the we will have to change the value of the key-word argument 'inplace' to True"
   ]
  },
  {
   "cell_type": "code",
   "execution_count": 8,
   "metadata": {},
   "outputs": [],
   "source": [
    "csv.rename(columns={'f_name' : 'First_Name','l_name' : 'Last_Name','roll_no' : 'Roll_No'},inplace=True)"
   ]
  },
  {
   "cell_type": "code",
   "execution_count": null,
   "metadata": {},
   "outputs": [],
   "source": []
  },
  {
   "cell_type": "markdown",
   "metadata": {},
   "source": [
    "### Ok now lets change the values in the rows !"
   ]
  },
  {
   "cell_type": "code",
   "execution_count": 11,
   "metadata": {},
   "outputs": [],
   "source": [
    "csv.loc[1,['First_Name','div']] = ['Aditya','Aster']"
   ]
  },
  {
   "cell_type": "code",
   "execution_count": 12,
   "metadata": {},
   "outputs": [
    {
     "data": {
      "text/html": [
       "<div>\n",
       "<style scoped>\n",
       "    .dataframe tbody tr th:only-of-type {\n",
       "        vertical-align: middle;\n",
       "    }\n",
       "\n",
       "    .dataframe tbody tr th {\n",
       "        vertical-align: top;\n",
       "    }\n",
       "\n",
       "    .dataframe thead th {\n",
       "        text-align: right;\n",
       "    }\n",
       "</style>\n",
       "<table border=\"1\" class=\"dataframe\">\n",
       "  <thead>\n",
       "    <tr style=\"text-align: right;\">\n",
       "      <th></th>\n",
       "      <th>First_Name</th>\n",
       "      <th>Last_Name</th>\n",
       "      <th>Roll_No</th>\n",
       "      <th>div</th>\n",
       "      <th>age</th>\n",
       "    </tr>\n",
       "  </thead>\n",
       "  <tbody>\n",
       "    <tr>\n",
       "      <th>0</th>\n",
       "      <td>Chaitanya</td>\n",
       "      <td>Jaipurkar</td>\n",
       "      <td>34</td>\n",
       "      <td>Dahlia</td>\n",
       "      <td>13</td>\n",
       "    </tr>\n",
       "    <tr>\n",
       "      <th>1</th>\n",
       "      <td>Aditya</td>\n",
       "      <td>Rane</td>\n",
       "      <td>11</td>\n",
       "      <td>Aster</td>\n",
       "      <td>11</td>\n",
       "    </tr>\n",
       "    <tr>\n",
       "      <th>2</th>\n",
       "      <td>Adwait</td>\n",
       "      <td>Dive</td>\n",
       "      <td>56</td>\n",
       "      <td>Pluto</td>\n",
       "      <td>12</td>\n",
       "    </tr>\n",
       "    <tr>\n",
       "      <th>3</th>\n",
       "      <td>Vishrut</td>\n",
       "      <td>Vaishampayan</td>\n",
       "      <td>48</td>\n",
       "      <td>Dahlia</td>\n",
       "      <td>13</td>\n",
       "    </tr>\n",
       "    <tr>\n",
       "      <th>4</th>\n",
       "      <td>Neel</td>\n",
       "      <td>Deshmukh</td>\n",
       "      <td>29</td>\n",
       "      <td>Jasmine</td>\n",
       "      <td>10</td>\n",
       "    </tr>\n",
       "    <tr>\n",
       "      <th>5</th>\n",
       "      <td>Samarth</td>\n",
       "      <td>Joshi</td>\n",
       "      <td>33</td>\n",
       "      <td>jas</td>\n",
       "      <td>11</td>\n",
       "    </tr>\n",
       "  </tbody>\n",
       "</table>\n",
       "</div>"
      ],
      "text/plain": [
       "  First_Name     Last_Name  Roll_No      div  age\n",
       "0  Chaitanya     Jaipurkar       34   Dahlia   13\n",
       "1     Aditya          Rane       11    Aster   11\n",
       "2     Adwait          Dive       56    Pluto   12\n",
       "3    Vishrut  Vaishampayan       48   Dahlia   13\n",
       "4       Neel      Deshmukh       29  Jasmine   10\n",
       "5    Samarth         Joshi       33      jas   11"
      ]
     },
     "execution_count": 12,
     "metadata": {},
     "output_type": "execute_result"
    }
   ],
   "source": [
    "csv"
   ]
  },
  {
   "cell_type": "markdown",
   "metadata": {},
   "source": [
    "### See we can see the changed values"
   ]
  },
  {
   "cell_type": "markdown",
   "metadata": {},
   "source": [
    "#### Now let us change a full column in one go to 'uppercase'"
   ]
  },
  {
   "cell_type": "code",
   "execution_count": 13,
   "metadata": {},
   "outputs": [],
   "source": [
    "csv['First_Name'] = csv['First_Name'].str.upper()"
   ]
  },
  {
   "cell_type": "code",
   "execution_count": 14,
   "metadata": {},
   "outputs": [
    {
     "data": {
      "text/html": [
       "<div>\n",
       "<style scoped>\n",
       "    .dataframe tbody tr th:only-of-type {\n",
       "        vertical-align: middle;\n",
       "    }\n",
       "\n",
       "    .dataframe tbody tr th {\n",
       "        vertical-align: top;\n",
       "    }\n",
       "\n",
       "    .dataframe thead th {\n",
       "        text-align: right;\n",
       "    }\n",
       "</style>\n",
       "<table border=\"1\" class=\"dataframe\">\n",
       "  <thead>\n",
       "    <tr style=\"text-align: right;\">\n",
       "      <th></th>\n",
       "      <th>First_Name</th>\n",
       "      <th>Last_Name</th>\n",
       "      <th>Roll_No</th>\n",
       "      <th>div</th>\n",
       "      <th>age</th>\n",
       "    </tr>\n",
       "  </thead>\n",
       "  <tbody>\n",
       "    <tr>\n",
       "      <th>0</th>\n",
       "      <td>CHAITANYA</td>\n",
       "      <td>Jaipurkar</td>\n",
       "      <td>34</td>\n",
       "      <td>Dahlia</td>\n",
       "      <td>13</td>\n",
       "    </tr>\n",
       "    <tr>\n",
       "      <th>1</th>\n",
       "      <td>ADITYA</td>\n",
       "      <td>Rane</td>\n",
       "      <td>11</td>\n",
       "      <td>Aster</td>\n",
       "      <td>11</td>\n",
       "    </tr>\n",
       "    <tr>\n",
       "      <th>2</th>\n",
       "      <td>ADWAIT</td>\n",
       "      <td>Dive</td>\n",
       "      <td>56</td>\n",
       "      <td>Pluto</td>\n",
       "      <td>12</td>\n",
       "    </tr>\n",
       "    <tr>\n",
       "      <th>3</th>\n",
       "      <td>VISHRUT</td>\n",
       "      <td>Vaishampayan</td>\n",
       "      <td>48</td>\n",
       "      <td>Dahlia</td>\n",
       "      <td>13</td>\n",
       "    </tr>\n",
       "    <tr>\n",
       "      <th>4</th>\n",
       "      <td>NEEL</td>\n",
       "      <td>Deshmukh</td>\n",
       "      <td>29</td>\n",
       "      <td>Jasmine</td>\n",
       "      <td>10</td>\n",
       "    </tr>\n",
       "    <tr>\n",
       "      <th>5</th>\n",
       "      <td>SAMARTH</td>\n",
       "      <td>Joshi</td>\n",
       "      <td>33</td>\n",
       "      <td>jas</td>\n",
       "      <td>11</td>\n",
       "    </tr>\n",
       "  </tbody>\n",
       "</table>\n",
       "</div>"
      ],
      "text/plain": [
       "  First_Name     Last_Name  Roll_No      div  age\n",
       "0  CHAITANYA     Jaipurkar       34   Dahlia   13\n",
       "1     ADITYA          Rane       11    Aster   11\n",
       "2     ADWAIT          Dive       56    Pluto   12\n",
       "3    VISHRUT  Vaishampayan       48   Dahlia   13\n",
       "4       NEEL      Deshmukh       29  Jasmine   10\n",
       "5    SAMARTH         Joshi       33      jas   11"
      ]
     },
     "execution_count": 14,
     "metadata": {},
     "output_type": "execute_result"
    }
   ],
   "source": [
    "csv"
   ]
  },
  {
   "cell_type": "markdown",
   "metadata": {},
   "source": [
    "### Now there is a method called apply which applies a specefic funcion o every value of a column"
   ]
  },
  {
   "cell_type": "code",
   "execution_count": 15,
   "metadata": {},
   "outputs": [],
   "source": [
    "csv['div'] = csv['div'].apply(lambda z : z.upper())"
   ]
  },
  {
   "cell_type": "code",
   "execution_count": 16,
   "metadata": {},
   "outputs": [
    {
     "data": {
      "text/html": [
       "<div>\n",
       "<style scoped>\n",
       "    .dataframe tbody tr th:only-of-type {\n",
       "        vertical-align: middle;\n",
       "    }\n",
       "\n",
       "    .dataframe tbody tr th {\n",
       "        vertical-align: top;\n",
       "    }\n",
       "\n",
       "    .dataframe thead th {\n",
       "        text-align: right;\n",
       "    }\n",
       "</style>\n",
       "<table border=\"1\" class=\"dataframe\">\n",
       "  <thead>\n",
       "    <tr style=\"text-align: right;\">\n",
       "      <th></th>\n",
       "      <th>First_Name</th>\n",
       "      <th>Last_Name</th>\n",
       "      <th>Roll_No</th>\n",
       "      <th>div</th>\n",
       "      <th>age</th>\n",
       "    </tr>\n",
       "  </thead>\n",
       "  <tbody>\n",
       "    <tr>\n",
       "      <th>0</th>\n",
       "      <td>CHAITANYA</td>\n",
       "      <td>Jaipurkar</td>\n",
       "      <td>34</td>\n",
       "      <td>DAHLIA</td>\n",
       "      <td>13</td>\n",
       "    </tr>\n",
       "    <tr>\n",
       "      <th>1</th>\n",
       "      <td>ADITYA</td>\n",
       "      <td>Rane</td>\n",
       "      <td>11</td>\n",
       "      <td>ASTER</td>\n",
       "      <td>11</td>\n",
       "    </tr>\n",
       "    <tr>\n",
       "      <th>2</th>\n",
       "      <td>ADWAIT</td>\n",
       "      <td>Dive</td>\n",
       "      <td>56</td>\n",
       "      <td>PLUTO</td>\n",
       "      <td>12</td>\n",
       "    </tr>\n",
       "    <tr>\n",
       "      <th>3</th>\n",
       "      <td>VISHRUT</td>\n",
       "      <td>Vaishampayan</td>\n",
       "      <td>48</td>\n",
       "      <td>DAHLIA</td>\n",
       "      <td>13</td>\n",
       "    </tr>\n",
       "    <tr>\n",
       "      <th>4</th>\n",
       "      <td>NEEL</td>\n",
       "      <td>Deshmukh</td>\n",
       "      <td>29</td>\n",
       "      <td>JASMINE</td>\n",
       "      <td>10</td>\n",
       "    </tr>\n",
       "    <tr>\n",
       "      <th>5</th>\n",
       "      <td>SAMARTH</td>\n",
       "      <td>Joshi</td>\n",
       "      <td>33</td>\n",
       "      <td>JAS</td>\n",
       "      <td>11</td>\n",
       "    </tr>\n",
       "  </tbody>\n",
       "</table>\n",
       "</div>"
      ],
      "text/plain": [
       "  First_Name     Last_Name  Roll_No      div  age\n",
       "0  CHAITANYA     Jaipurkar       34   DAHLIA   13\n",
       "1     ADITYA          Rane       11    ASTER   11\n",
       "2     ADWAIT          Dive       56    PLUTO   12\n",
       "3    VISHRUT  Vaishampayan       48   DAHLIA   13\n",
       "4       NEEL      Deshmukh       29  JASMINE   10\n",
       "5    SAMARTH         Joshi       33      JAS   11"
      ]
     },
     "execution_count": 16,
     "metadata": {},
     "output_type": "execute_result"
    }
   ],
   "source": [
    "csv"
   ]
  },
  {
   "cell_type": "markdown",
   "metadata": {},
   "source": [
    "##### We can either pass a lambda function or a normal function\n",
    "##### Now we can see that the values in the column 'div' are all uppercase!"
   ]
  },
  {
   "cell_type": "code",
   "execution_count": null,
   "metadata": {},
   "outputs": [],
   "source": []
  }
 ],
 "metadata": {
  "kernelspec": {
   "display_name": "Python 3",
   "language": "python",
   "name": "python3"
  },
  "language_info": {
   "codemirror_mode": {
    "name": "ipython",
    "version": 3
   },
   "file_extension": ".py",
   "mimetype": "text/x-python",
   "name": "python",
   "nbconvert_exporter": "python",
   "pygments_lexer": "ipython3",
   "version": "3.8.6"
  }
 },
 "nbformat": 4,
 "nbformat_minor": 4
}
