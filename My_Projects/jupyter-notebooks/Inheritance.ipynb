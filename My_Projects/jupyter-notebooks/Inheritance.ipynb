{
 "cells": [
  {
   "cell_type": "code",
   "execution_count": 1,
   "metadata": {},
   "outputs": [
    {
     "name": "stdout",
     "output_type": "stream",
     "text": [
      "first_name = chai, last_name = jai, gender = male\n"
     ]
    }
   ],
   "source": [
    "class Person:\n",
    "  def __init__(self,fname,lname,gender):\n",
    "    self.fname = fname\n",
    "    self.lname = lname\n",
    "    self.gender = gender\n",
    "\n",
    "  def __str__(self):\n",
    "    return (f'first_name = {self.fname}, last_name = {self.lname}, gender = {self.gender}')\n",
    "\n",
    "class Student(Person):\n",
    "  def __init__(self,fname,lname,gender,roll_no,div):\n",
    "    super().__init__(fname,lname,gender)\n",
    "    Person.__str__(self)\n",
    "\n",
    "o1 = Student('chai','jai','male',34,'d')\n",
    "print(o1)"
   ]
  },
  {
   "cell_type": "code",
   "execution_count": null,
   "metadata": {},
   "outputs": [],
   "source": []
  }
 ],
 "metadata": {
  "kernelspec": {
   "display_name": "Python 3",
   "language": "python",
   "name": "python3"
  },
  "language_info": {
   "codemirror_mode": {
    "name": "ipython",
    "version": 3
   },
   "file_extension": ".py",
   "mimetype": "text/x-python",
   "name": "python",
   "nbconvert_exporter": "python",
   "pygments_lexer": "ipython3",
   "version": "3.8.6"
  }
 },
 "nbformat": 4,
 "nbformat_minor": 4
}
