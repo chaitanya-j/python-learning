{
 "cells": [
  {
   "cell_type": "code",
   "execution_count": 3,
   "id": "understood-checkout",
   "metadata": {},
   "outputs": [],
   "source": [
    "import datetime as dtm"
   ]
  },
  {
   "cell_type": "code",
   "execution_count": 4,
   "id": "raised-scholarship",
   "metadata": {},
   "outputs": [],
   "source": [
    "import pandas as pd"
   ]
  },
  {
   "cell_type": "markdown",
   "id": "powerful-desperate",
   "metadata": {},
   "source": [
    "This function converts a string date to a date object"
   ]
  },
  {
   "cell_type": "code",
   "execution_count": 5,
   "id": "terminal-radius",
   "metadata": {},
   "outputs": [],
   "source": [
    "def to_date(date_str):\n",
    "    m,d,y = date_str.split('/')\n",
    "    dt_obj = dtm.date(int(y),int(m),int(d))\n",
    "    return dt_obj\n",
    "    "
   ]
  },
  {
   "cell_type": "markdown",
   "id": "three-malawi",
   "metadata": {},
   "source": [
    "Here we are loading the CSV"
   ]
  },
  {
   "cell_type": "code",
   "execution_count": 8,
   "id": "according-durham",
   "metadata": {},
   "outputs": [],
   "source": [
    "df = pd.read_csv('Google_Stock_Price_Test.csv',index_col='Date')"
   ]
  },
  {
   "cell_type": "markdown",
   "id": "monthly-break",
   "metadata": {},
   "source": []
  },
  {
   "cell_type": "code",
   "execution_count": 9,
   "id": "married-tutorial",
   "metadata": {},
   "outputs": [
    {
     "data": {
      "text/html": [
       "<div>\n",
       "<style scoped>\n",
       "    .dataframe tbody tr th:only-of-type {\n",
       "        vertical-align: middle;\n",
       "    }\n",
       "\n",
       "    .dataframe tbody tr th {\n",
       "        vertical-align: top;\n",
       "    }\n",
       "\n",
       "    .dataframe thead th {\n",
       "        text-align: right;\n",
       "    }\n",
       "</style>\n",
       "<table border=\"1\" class=\"dataframe\">\n",
       "  <thead>\n",
       "    <tr style=\"text-align: right;\">\n",
       "      <th></th>\n",
       "      <th>Open</th>\n",
       "      <th>High</th>\n",
       "      <th>Low</th>\n",
       "      <th>Close</th>\n",
       "      <th>Volume</th>\n",
       "    </tr>\n",
       "    <tr>\n",
       "      <th>Date</th>\n",
       "      <th></th>\n",
       "      <th></th>\n",
       "      <th></th>\n",
       "      <th></th>\n",
       "      <th></th>\n",
       "    </tr>\n",
       "  </thead>\n",
       "  <tbody>\n",
       "    <tr>\n",
       "      <th>1/3/2017</th>\n",
       "      <td>778.81</td>\n",
       "      <td>789.63</td>\n",
       "      <td>775.80</td>\n",
       "      <td>786.14</td>\n",
       "      <td>1,657,300</td>\n",
       "    </tr>\n",
       "    <tr>\n",
       "      <th>1/4/2017</th>\n",
       "      <td>788.36</td>\n",
       "      <td>991.34</td>\n",
       "      <td>783.16</td>\n",
       "      <td>786.90</td>\n",
       "      <td>1,073,000</td>\n",
       "    </tr>\n",
       "    <tr>\n",
       "      <th>1/5/2017</th>\n",
       "      <td>786.08</td>\n",
       "      <td>794.48</td>\n",
       "      <td>785.02</td>\n",
       "      <td>794.02</td>\n",
       "      <td>1,335,200</td>\n",
       "    </tr>\n",
       "    <tr>\n",
       "      <th>1/6/2017</th>\n",
       "      <td>795.26</td>\n",
       "      <td>807.90</td>\n",
       "      <td>792.20</td>\n",
       "      <td>806.15</td>\n",
       "      <td>1,640,200</td>\n",
       "    </tr>\n",
       "    <tr>\n",
       "      <th>1/9/2017</th>\n",
       "      <td>806.40</td>\n",
       "      <td>809.97</td>\n",
       "      <td>802.83</td>\n",
       "      <td>806.65</td>\n",
       "      <td>1,272,400</td>\n",
       "    </tr>\n",
       "    <tr>\n",
       "      <th>1/10/2017</th>\n",
       "      <td>807.86</td>\n",
       "      <td>809.13</td>\n",
       "      <td>803.51</td>\n",
       "      <td>804.79</td>\n",
       "      <td>1,176,800</td>\n",
       "    </tr>\n",
       "    <tr>\n",
       "      <th>1/11/2017</th>\n",
       "      <td>805.00</td>\n",
       "      <td>808.15</td>\n",
       "      <td>801.37</td>\n",
       "      <td>807.91</td>\n",
       "      <td>1,065,900</td>\n",
       "    </tr>\n",
       "    <tr>\n",
       "      <th>1/12/2017</th>\n",
       "      <td>510.14</td>\n",
       "      <td>807.39</td>\n",
       "      <td>510.14</td>\n",
       "      <td>806.36</td>\n",
       "      <td>1,353,100</td>\n",
       "    </tr>\n",
       "    <tr>\n",
       "      <th>1/13/2017</th>\n",
       "      <td>807.48</td>\n",
       "      <td>991.34</td>\n",
       "      <td>806.69</td>\n",
       "      <td>807.88</td>\n",
       "      <td>1,099,200</td>\n",
       "    </tr>\n",
       "    <tr>\n",
       "      <th>1/17/2017</th>\n",
       "      <td>510.14</td>\n",
       "      <td>807.14</td>\n",
       "      <td>510.14</td>\n",
       "      <td>804.61</td>\n",
       "      <td>1,362,100</td>\n",
       "    </tr>\n",
       "    <tr>\n",
       "      <th>1/18/2017</th>\n",
       "      <td>805.81</td>\n",
       "      <td>806.21</td>\n",
       "      <td>800.99</td>\n",
       "      <td>806.07</td>\n",
       "      <td>1,294,400</td>\n",
       "    </tr>\n",
       "    <tr>\n",
       "      <th>1/19/2017</th>\n",
       "      <td>805.12</td>\n",
       "      <td>809.48</td>\n",
       "      <td>801.80</td>\n",
       "      <td>802.17</td>\n",
       "      <td>919,300</td>\n",
       "    </tr>\n",
       "    <tr>\n",
       "      <th>1/20/2017</th>\n",
       "      <td>806.91</td>\n",
       "      <td>806.91</td>\n",
       "      <td>801.69</td>\n",
       "      <td>805.02</td>\n",
       "      <td>1,670,000</td>\n",
       "    </tr>\n",
       "    <tr>\n",
       "      <th>1/23/2017</th>\n",
       "      <td>807.25</td>\n",
       "      <td>991.34</td>\n",
       "      <td>803.74</td>\n",
       "      <td>819.31</td>\n",
       "      <td>1,963,600</td>\n",
       "    </tr>\n",
       "    <tr>\n",
       "      <th>1/24/2017</th>\n",
       "      <td>822.30</td>\n",
       "      <td>825.90</td>\n",
       "      <td>817.82</td>\n",
       "      <td>823.87</td>\n",
       "      <td>1,474,000</td>\n",
       "    </tr>\n",
       "    <tr>\n",
       "      <th>1/25/2017</th>\n",
       "      <td>829.62</td>\n",
       "      <td>835.77</td>\n",
       "      <td>825.06</td>\n",
       "      <td>835.67</td>\n",
       "      <td>1,494,500</td>\n",
       "    </tr>\n",
       "    <tr>\n",
       "      <th>1/26/2017</th>\n",
       "      <td>837.81</td>\n",
       "      <td>838.00</td>\n",
       "      <td>827.01</td>\n",
       "      <td>832.15</td>\n",
       "      <td>2,973,900</td>\n",
       "    </tr>\n",
       "    <tr>\n",
       "      <th>1/27/2017</th>\n",
       "      <td>834.71</td>\n",
       "      <td>841.95</td>\n",
       "      <td>820.44</td>\n",
       "      <td>823.31</td>\n",
       "      <td>2,965,800</td>\n",
       "    </tr>\n",
       "    <tr>\n",
       "      <th>1/30/2017</th>\n",
       "      <td>814.66</td>\n",
       "      <td>991.34</td>\n",
       "      <td>799.80</td>\n",
       "      <td>802.32</td>\n",
       "      <td>3,246,600</td>\n",
       "    </tr>\n",
       "    <tr>\n",
       "      <th>1/31/2017</th>\n",
       "      <td>796.86</td>\n",
       "      <td>801.25</td>\n",
       "      <td>790.52</td>\n",
       "      <td>796.79</td>\n",
       "      <td>2,160,600</td>\n",
       "    </tr>\n",
       "  </tbody>\n",
       "</table>\n",
       "</div>"
      ],
      "text/plain": [
       "             Open    High     Low   Close     Volume\n",
       "Date                                                \n",
       "1/3/2017   778.81  789.63  775.80  786.14  1,657,300\n",
       "1/4/2017   788.36  991.34  783.16  786.90  1,073,000\n",
       "1/5/2017   786.08  794.48  785.02  794.02  1,335,200\n",
       "1/6/2017   795.26  807.90  792.20  806.15  1,640,200\n",
       "1/9/2017   806.40  809.97  802.83  806.65  1,272,400\n",
       "1/10/2017  807.86  809.13  803.51  804.79  1,176,800\n",
       "1/11/2017  805.00  808.15  801.37  807.91  1,065,900\n",
       "1/12/2017  510.14  807.39  510.14  806.36  1,353,100\n",
       "1/13/2017  807.48  991.34  806.69  807.88  1,099,200\n",
       "1/17/2017  510.14  807.14  510.14  804.61  1,362,100\n",
       "1/18/2017  805.81  806.21  800.99  806.07  1,294,400\n",
       "1/19/2017  805.12  809.48  801.80  802.17    919,300\n",
       "1/20/2017  806.91  806.91  801.69  805.02  1,670,000\n",
       "1/23/2017  807.25  991.34  803.74  819.31  1,963,600\n",
       "1/24/2017  822.30  825.90  817.82  823.87  1,474,000\n",
       "1/25/2017  829.62  835.77  825.06  835.67  1,494,500\n",
       "1/26/2017  837.81  838.00  827.01  832.15  2,973,900\n",
       "1/27/2017  834.71  841.95  820.44  823.31  2,965,800\n",
       "1/30/2017  814.66  991.34  799.80  802.32  3,246,600\n",
       "1/31/2017  796.86  801.25  790.52  796.79  2,160,600"
      ]
     },
     "execution_count": 9,
     "metadata": {},
     "output_type": "execute_result"
    }
   ],
   "source": [
    "df"
   ]
  },
  {
   "cell_type": "code",
   "execution_count": 21,
   "id": "bizarre-tampa",
   "metadata": {},
   "outputs": [
    {
     "data": {
      "text/plain": [
       "Index(['1/3/2017', '1/4/2017', '1/5/2017', '1/6/2017', '1/9/2017', '1/10/2017',\n",
       "       '1/11/2017', '1/12/2017', '1/13/2017', '1/17/2017', '1/18/2017',\n",
       "       '1/19/2017', '1/20/2017', '1/23/2017', '1/24/2017', '1/25/2017',\n",
       "       '1/26/2017', '1/27/2017', '1/30/2017', '1/31/2017'],\n",
       "      dtype='object', name='Date')"
      ]
     },
     "execution_count": 21,
     "metadata": {},
     "output_type": "execute_result"
    }
   ],
   "source": [
    "df.index"
   ]
  },
  {
   "cell_type": "code",
   "execution_count": 10,
   "id": "social-antarctica",
   "metadata": {},
   "outputs": [],
   "source": [
    "lowest = min(df['Low'])"
   ]
  },
  {
   "cell_type": "code",
   "execution_count": 11,
   "id": "genuine-daisy",
   "metadata": {},
   "outputs": [
    {
     "data": {
      "text/plain": [
       "510.14"
      ]
     },
     "execution_count": 11,
     "metadata": {},
     "output_type": "execute_result"
    }
   ],
   "source": [
    "lowest"
   ]
  },
  {
   "cell_type": "code",
   "execution_count": null,
   "id": "painted-pierce",
   "metadata": {},
   "outputs": [],
   "source": []
  },
  {
   "cell_type": "code",
   "execution_count": 12,
   "id": "sized-assembly",
   "metadata": {},
   "outputs": [],
   "source": [
    "highest = max(df['High'])"
   ]
  },
  {
   "cell_type": "code",
   "execution_count": 13,
   "id": "significant-collins",
   "metadata": {},
   "outputs": [
    {
     "data": {
      "text/plain": [
       "991.34"
      ]
     },
     "execution_count": 13,
     "metadata": {},
     "output_type": "execute_result"
    }
   ],
   "source": [
    "highest"
   ]
  },
  {
   "cell_type": "code",
   "execution_count": 14,
   "id": "considered-collection",
   "metadata": {},
   "outputs": [],
   "source": [
    "filt = (df['Low'] == lowest)"
   ]
  },
  {
   "cell_type": "code",
   "execution_count": 16,
   "id": "german-ferry",
   "metadata": {},
   "outputs": [
    {
     "data": {
      "text/html": [
       "<div>\n",
       "<style scoped>\n",
       "    .dataframe tbody tr th:only-of-type {\n",
       "        vertical-align: middle;\n",
       "    }\n",
       "\n",
       "    .dataframe tbody tr th {\n",
       "        vertical-align: top;\n",
       "    }\n",
       "\n",
       "    .dataframe thead th {\n",
       "        text-align: right;\n",
       "    }\n",
       "</style>\n",
       "<table border=\"1\" class=\"dataframe\">\n",
       "  <thead>\n",
       "    <tr style=\"text-align: right;\">\n",
       "      <th></th>\n",
       "      <th>Open</th>\n",
       "      <th>High</th>\n",
       "      <th>Low</th>\n",
       "      <th>Close</th>\n",
       "      <th>Volume</th>\n",
       "    </tr>\n",
       "    <tr>\n",
       "      <th>Date</th>\n",
       "      <th></th>\n",
       "      <th></th>\n",
       "      <th></th>\n",
       "      <th></th>\n",
       "      <th></th>\n",
       "    </tr>\n",
       "  </thead>\n",
       "  <tbody>\n",
       "    <tr>\n",
       "      <th>1/12/2017</th>\n",
       "      <td>510.14</td>\n",
       "      <td>807.39</td>\n",
       "      <td>510.14</td>\n",
       "      <td>806.36</td>\n",
       "      <td>1,353,100</td>\n",
       "    </tr>\n",
       "    <tr>\n",
       "      <th>1/17/2017</th>\n",
       "      <td>510.14</td>\n",
       "      <td>807.14</td>\n",
       "      <td>510.14</td>\n",
       "      <td>804.61</td>\n",
       "      <td>1,362,100</td>\n",
       "    </tr>\n",
       "  </tbody>\n",
       "</table>\n",
       "</div>"
      ],
      "text/plain": [
       "             Open    High     Low   Close     Volume\n",
       "Date                                                \n",
       "1/12/2017  510.14  807.39  510.14  806.36  1,353,100\n",
       "1/17/2017  510.14  807.14  510.14  804.61  1,362,100"
      ]
     },
     "execution_count": 16,
     "metadata": {},
     "output_type": "execute_result"
    }
   ],
   "source": [
    "lows = df[filt]\n",
    "lows"
   ]
  },
  {
   "cell_type": "code",
   "execution_count": 17,
   "id": "clear-stage",
   "metadata": {},
   "outputs": [],
   "source": [
    "low_dates = lows.index"
   ]
  },
  {
   "cell_type": "code",
   "execution_count": 18,
   "id": "functioning-haven",
   "metadata": {},
   "outputs": [
    {
     "data": {
      "text/plain": [
       "Index(['1/12/2017', '1/17/2017'], dtype='object', name='Date')"
      ]
     },
     "execution_count": 18,
     "metadata": {},
     "output_type": "execute_result"
    }
   ],
   "source": [
    "low_dates"
   ]
  },
  {
   "cell_type": "code",
   "execution_count": 19,
   "id": "pediatric-experiment",
   "metadata": {},
   "outputs": [
    {
     "data": {
      "text/plain": [
       "'1/17/2017'"
      ]
     },
     "execution_count": 19,
     "metadata": {},
     "output_type": "execute_result"
    }
   ],
   "source": [
    "last_low = low_dates[-1]\n",
    "last_low"
   ]
  },
  {
   "cell_type": "code",
   "execution_count": 20,
   "id": "tamil-incentive",
   "metadata": {},
   "outputs": [
    {
     "data": {
      "text/plain": [
       "datetime.date(2017, 1, 17)"
      ]
     },
     "execution_count": 20,
     "metadata": {},
     "output_type": "execute_result"
    }
   ],
   "source": [
    "dt_last_low  = to_date(last_low)\n",
    "dt_last_low"
   ]
  },
  {
   "cell_type": "code",
   "execution_count": 22,
   "id": "wooden-tenant",
   "metadata": {},
   "outputs": [
    {
     "data": {
      "text/plain": [
       "Index([2017-01-03, 2017-01-04, 2017-01-05, 2017-01-06, 2017-01-09, 2017-01-10,\n",
       "       2017-01-11, 2017-01-12, 2017-01-13, 2017-01-17, 2017-01-18, 2017-01-19,\n",
       "       2017-01-20, 2017-01-23, 2017-01-24, 2017-01-25, 2017-01-26, 2017-01-27,\n",
       "       2017-01-30, 2017-01-31],\n",
       "      dtype='object', name='Date')"
      ]
     },
     "execution_count": 22,
     "metadata": {},
     "output_type": "execute_result"
    }
   ],
   "source": [
    "df_temp = df.index.map(to_date)\n",
    "df_temp"
   ]
  },
  {
   "cell_type": "code",
   "execution_count": 23,
   "id": "intensive-litigation",
   "metadata": {},
   "outputs": [],
   "source": [
    "filt2 = df.index.map(to_date) > dt_last_low"
   ]
  },
  {
   "cell_type": "code",
   "execution_count": 24,
   "id": "selected-culture",
   "metadata": {},
   "outputs": [],
   "source": [
    "df_last_lows = df[filt2]"
   ]
  },
  {
   "cell_type": "code",
   "execution_count": 25,
   "id": "lesser-petite",
   "metadata": {},
   "outputs": [
    {
     "data": {
      "text/html": [
       "<div>\n",
       "<style scoped>\n",
       "    .dataframe tbody tr th:only-of-type {\n",
       "        vertical-align: middle;\n",
       "    }\n",
       "\n",
       "    .dataframe tbody tr th {\n",
       "        vertical-align: top;\n",
       "    }\n",
       "\n",
       "    .dataframe thead th {\n",
       "        text-align: right;\n",
       "    }\n",
       "</style>\n",
       "<table border=\"1\" class=\"dataframe\">\n",
       "  <thead>\n",
       "    <tr style=\"text-align: right;\">\n",
       "      <th></th>\n",
       "      <th>Open</th>\n",
       "      <th>High</th>\n",
       "      <th>Low</th>\n",
       "      <th>Close</th>\n",
       "      <th>Volume</th>\n",
       "    </tr>\n",
       "    <tr>\n",
       "      <th>Date</th>\n",
       "      <th></th>\n",
       "      <th></th>\n",
       "      <th></th>\n",
       "      <th></th>\n",
       "      <th></th>\n",
       "    </tr>\n",
       "  </thead>\n",
       "  <tbody>\n",
       "    <tr>\n",
       "      <th>1/18/2017</th>\n",
       "      <td>805.81</td>\n",
       "      <td>806.21</td>\n",
       "      <td>800.99</td>\n",
       "      <td>806.07</td>\n",
       "      <td>1,294,400</td>\n",
       "    </tr>\n",
       "    <tr>\n",
       "      <th>1/19/2017</th>\n",
       "      <td>805.12</td>\n",
       "      <td>809.48</td>\n",
       "      <td>801.80</td>\n",
       "      <td>802.17</td>\n",
       "      <td>919,300</td>\n",
       "    </tr>\n",
       "    <tr>\n",
       "      <th>1/20/2017</th>\n",
       "      <td>806.91</td>\n",
       "      <td>806.91</td>\n",
       "      <td>801.69</td>\n",
       "      <td>805.02</td>\n",
       "      <td>1,670,000</td>\n",
       "    </tr>\n",
       "    <tr>\n",
       "      <th>1/23/2017</th>\n",
       "      <td>807.25</td>\n",
       "      <td>991.34</td>\n",
       "      <td>803.74</td>\n",
       "      <td>819.31</td>\n",
       "      <td>1,963,600</td>\n",
       "    </tr>\n",
       "    <tr>\n",
       "      <th>1/24/2017</th>\n",
       "      <td>822.30</td>\n",
       "      <td>825.90</td>\n",
       "      <td>817.82</td>\n",
       "      <td>823.87</td>\n",
       "      <td>1,474,000</td>\n",
       "    </tr>\n",
       "    <tr>\n",
       "      <th>1/25/2017</th>\n",
       "      <td>829.62</td>\n",
       "      <td>835.77</td>\n",
       "      <td>825.06</td>\n",
       "      <td>835.67</td>\n",
       "      <td>1,494,500</td>\n",
       "    </tr>\n",
       "    <tr>\n",
       "      <th>1/26/2017</th>\n",
       "      <td>837.81</td>\n",
       "      <td>838.00</td>\n",
       "      <td>827.01</td>\n",
       "      <td>832.15</td>\n",
       "      <td>2,973,900</td>\n",
       "    </tr>\n",
       "    <tr>\n",
       "      <th>1/27/2017</th>\n",
       "      <td>834.71</td>\n",
       "      <td>841.95</td>\n",
       "      <td>820.44</td>\n",
       "      <td>823.31</td>\n",
       "      <td>2,965,800</td>\n",
       "    </tr>\n",
       "    <tr>\n",
       "      <th>1/30/2017</th>\n",
       "      <td>814.66</td>\n",
       "      <td>991.34</td>\n",
       "      <td>799.80</td>\n",
       "      <td>802.32</td>\n",
       "      <td>3,246,600</td>\n",
       "    </tr>\n",
       "    <tr>\n",
       "      <th>1/31/2017</th>\n",
       "      <td>796.86</td>\n",
       "      <td>801.25</td>\n",
       "      <td>790.52</td>\n",
       "      <td>796.79</td>\n",
       "      <td>2,160,600</td>\n",
       "    </tr>\n",
       "  </tbody>\n",
       "</table>\n",
       "</div>"
      ],
      "text/plain": [
       "             Open    High     Low   Close     Volume\n",
       "Date                                                \n",
       "1/18/2017  805.81  806.21  800.99  806.07  1,294,400\n",
       "1/19/2017  805.12  809.48  801.80  802.17    919,300\n",
       "1/20/2017  806.91  806.91  801.69  805.02  1,670,000\n",
       "1/23/2017  807.25  991.34  803.74  819.31  1,963,600\n",
       "1/24/2017  822.30  825.90  817.82  823.87  1,474,000\n",
       "1/25/2017  829.62  835.77  825.06  835.67  1,494,500\n",
       "1/26/2017  837.81  838.00  827.01  832.15  2,973,900\n",
       "1/27/2017  834.71  841.95  820.44  823.31  2,965,800\n",
       "1/30/2017  814.66  991.34  799.80  802.32  3,246,600\n",
       "1/31/2017  796.86  801.25  790.52  796.79  2,160,600"
      ]
     },
     "execution_count": 25,
     "metadata": {},
     "output_type": "execute_result"
    }
   ],
   "source": [
    "df_last_lows"
   ]
  },
  {
   "cell_type": "code",
   "execution_count": 26,
   "id": "dimensional-namibia",
   "metadata": {},
   "outputs": [],
   "source": [
    "lst_last_lows = list(df_last_lows.index)"
   ]
  },
  {
   "cell_type": "code",
   "execution_count": 27,
   "id": "revolutionary-pricing",
   "metadata": {},
   "outputs": [
    {
     "data": {
      "text/plain": [
       "['1/18/2017',\n",
       " '1/19/2017',\n",
       " '1/20/2017',\n",
       " '1/23/2017',\n",
       " '1/24/2017',\n",
       " '1/25/2017',\n",
       " '1/26/2017',\n",
       " '1/27/2017',\n",
       " '1/30/2017',\n",
       " '1/31/2017']"
      ]
     },
     "execution_count": 27,
     "metadata": {},
     "output_type": "execute_result"
    }
   ],
   "source": [
    "lst_last_lows"
   ]
  },
  {
   "cell_type": "code",
   "execution_count": 28,
   "id": "brave-paste",
   "metadata": {},
   "outputs": [],
   "source": [
    "lst_highs = []"
   ]
  },
  {
   "cell_type": "code",
   "execution_count": 29,
   "id": "continental-brunswick",
   "metadata": {},
   "outputs": [
    {
     "name": "stdout",
     "output_type": "stream",
     "text": [
      "1/18/2017\n",
      "1/19/2017\n",
      "1/20/2017\n",
      "1/23/2017\n",
      "1/24/2017\n",
      "1/25/2017\n",
      "1/26/2017\n",
      "1/27/2017\n",
      "1/30/2017\n",
      "1/31/2017\n"
     ]
    }
   ],
   "source": [
    "for last_low_row in lst_last_lows:\n",
    "    print(last_low_row)\n",
    "    lst_highs.append(df.loc[last_low_row]['High'])"
   ]
  },
  {
   "cell_type": "code",
   "execution_count": 30,
   "id": "british-christianity",
   "metadata": {},
   "outputs": [
    {
     "data": {
      "text/plain": [
       "[806.21, 809.48, 806.91, 991.34, 825.9, 835.77, 838.0, 841.95, 991.34, 801.25]"
      ]
     },
     "execution_count": 30,
     "metadata": {},
     "output_type": "execute_result"
    }
   ],
   "source": [
    "lst_highs"
   ]
  },
  {
   "cell_type": "code",
   "execution_count": null,
   "id": "egyptian-tulsa",
   "metadata": {},
   "outputs": [],
   "source": []
  },
  {
   "cell_type": "code",
   "execution_count": 31,
   "id": "streaming-train",
   "metadata": {},
   "outputs": [
    {
     "data": {
      "text/plain": [
       "991.34"
      ]
     },
     "execution_count": 31,
     "metadata": {},
     "output_type": "execute_result"
    }
   ],
   "source": [
    "highest_lst_highs = max(lst_highs)\n",
    "highest_lst_highs"
   ]
  },
  {
   "cell_type": "code",
   "execution_count": 33,
   "id": "vocal-judges",
   "metadata": {},
   "outputs": [
    {
     "data": {
      "text/plain": [
       "datetime.date(2017, 1, 23)"
      ]
     },
     "execution_count": 33,
     "metadata": {},
     "output_type": "execute_result"
    }
   ],
   "source": [
    "highest_lst_highs_dt = 0\n",
    "for last_low_row2 in lst_last_lows:\n",
    "    if df_last_lows.loc[last_low_row2]['High'] == highest_lst_highs:\n",
    "        highest_lst_highs_dt = to_date(last_low_row2)\n",
    "        break\n",
    "        \n",
    "highest_lst_highs_dt"
   ]
  },
  {
   "cell_type": "code",
   "execution_count": null,
   "id": "floppy-spectrum",
   "metadata": {},
   "outputs": [],
   "source": []
  },
  {
   "cell_type": "code",
   "execution_count": 34,
   "id": "ideal-characteristic",
   "metadata": {},
   "outputs": [
    {
     "data": {
      "text/plain": [
       "481.20000000000005"
      ]
     },
     "execution_count": 34,
     "metadata": {},
     "output_type": "execute_result"
    }
   ],
   "source": [
    "increase = highest_lst_highs - lowest\n",
    "increase"
   ]
  },
  {
   "cell_type": "code",
   "execution_count": null,
   "id": "acquired-orientation",
   "metadata": {},
   "outputs": [],
   "source": []
  },
  {
   "cell_type": "code",
   "execution_count": null,
   "id": "indonesian-bobby",
   "metadata": {},
   "outputs": [],
   "source": []
  },
  {
   "cell_type": "code",
   "execution_count": 35,
   "id": "finished-henry",
   "metadata": {},
   "outputs": [
    {
     "data": {
      "text/plain": [
       "datetime.timedelta(days=6)"
      ]
     },
     "execution_count": 35,
     "metadata": {},
     "output_type": "execute_result"
    }
   ],
   "source": [
    "diff_dates = highest_lst_highs_dt - dt_last_low\n",
    "diff_dates"
   ]
  },
  {
   "cell_type": "code",
   "execution_count": null,
   "id": "worldwide-cabin",
   "metadata": {},
   "outputs": [],
   "source": []
  },
  {
   "cell_type": "code",
   "execution_count": 37,
   "id": "manufactured-housing",
   "metadata": {},
   "outputs": [],
   "source": [
    "str_diff_dts = str(diff_dates)"
   ]
  },
  {
   "cell_type": "code",
   "execution_count": 38,
   "id": "bottom-islam",
   "metadata": {},
   "outputs": [],
   "source": [
    "spl_st_diff_dts = str_diff_dts.split(',')"
   ]
  },
  {
   "cell_type": "code",
   "execution_count": 39,
   "id": "standing-involvement",
   "metadata": {},
   "outputs": [
    {
     "name": "stdout",
     "output_type": "stream",
     "text": [
      "There was an increase of rupees 481.20000000000005 in the timespan of 6 days\n"
     ]
    }
   ],
   "source": [
    "print(f'There was an increase of rupees {increase} in the timespan of {spl_st_diff_dts[0]}')"
   ]
  },
  {
   "cell_type": "code",
   "execution_count": null,
   "id": "original-philippines",
   "metadata": {},
   "outputs": [],
   "source": []
  },
  {
   "cell_type": "code",
   "execution_count": 40,
   "id": "pretty-allah",
   "metadata": {},
   "outputs": [],
   "source": [
    "from matplotlib import pyplot as plt"
   ]
  },
  {
   "cell_type": "code",
   "execution_count": 41,
   "id": "artistic-investor",
   "metadata": {},
   "outputs": [],
   "source": [
    "vals_x = ['Lowest','Highest(after lowest)']\n",
    "vals_y = [lowest,highest_lst_highs]\n"
   ]
  },
  {
   "cell_type": "code",
   "execution_count": null,
   "id": "antique-lindsay",
   "metadata": {},
   "outputs": [],
   "source": []
  },
  {
   "cell_type": "code",
   "execution_count": 42,
   "id": "dedicated-broadcasting",
   "metadata": {},
   "outputs": [
    {
     "data": {
      "text/plain": [
       "<BarContainer object of 2 artists>"
      ]
     },
     "execution_count": 42,
     "metadata": {},
     "output_type": "execute_result"
    },
    {
     "data": {
      "image/png": "[encoded data removed]",
      "text/plain": [
       "<Figure size 432x288 with 1 Axes>"
      ]
     },
     "metadata": {
      "needs_background": "light"
     },
     "output_type": "display_data"
    }
   ],
   "source": [
    "plt.bar(vals_x,vals_y,label='Trends',width=0.15)"
   ]
  },
  {
   "cell_type": "code",
   "execution_count": null,
   "id": "velvet-backup",
   "metadata": {},
   "outputs": [],
   "source": []
  },
  {
   "cell_type": "code",
   "execution_count": null,
   "id": "developed-purse",
   "metadata": {},
   "outputs": [],
   "source": []
  }
 ],
 "metadata": {
  "kernelspec": {
   "display_name": "Python 3",
   "language": "python",
   "name": "python3"
  },
  "language_info": {
   "codemirror_mode": {
    "name": "ipython",
    "version": 3
   },
   "file_extension": ".py",
   "mimetype": "text/x-python",
   "name": "python",
   "nbconvert_exporter": "python",
   "pygments_lexer": "ipython3",
   "version": "3.8.6"
  }
 },
 "nbformat": 4,
 "nbformat_minor": 5
}
